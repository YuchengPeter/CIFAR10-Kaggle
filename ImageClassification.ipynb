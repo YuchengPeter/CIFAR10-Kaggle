{
 "cells": [
  {
   "cell_type": "code",
   "execution_count": 1,
   "metadata": {},
   "outputs": [
    {
     "name": "stdout",
     "output_type": "stream",
     "text": [
      "Num GPUs Available:  1\n"
     ]
    }
   ],
   "source": [
    "import tensorflow as tf\n",
    "from tensorflow import keras\n",
    "from tensorflow.keras.models import Sequential\n",
    "from tensorflow.keras.layers import Dense, Dropout, Flatten, Conv2D, MaxPooling2D\n",
    "from tensorflow.keras.layers import BatchNormalization\n",
    "import pandas as pd\n",
    "import numpy as np\n",
    "from sklearn.model_selection import train_test_split\n",
    "from sklearn.preprocessing import OneHotEncoder\n",
    "import glob\n",
    "import imageio\n",
    "import datetime\n",
    "#%load_ext tensorboard\n",
    "print(\"Num GPUs Available: \", len(tf.config.experimental.list_physical_devices('GPU')))"
   ]
  },
  {
   "cell_type": "code",
   "execution_count": 2,
   "metadata": {},
   "outputs": [],
   "source": [
    "def processData(imPath, labelPath):\n",
    "    df1 = pd.read_csv(labelPath, header=0)\n",
    "    yEncoder = OneHotEncoder(handle_unknown='ignore')\n",
    "    yEncoder.fit(df1[['label']])\n",
    "    #labelNames = yEncoder.get_feature_names()\n",
    "    labels = yEncoder.transform(df1[['label']]).toarray()\n",
    "    df2 = pd.DataFrame(data=labels)\n",
    "    df1.drop(['label'], axis=1, inplace=True)\n",
    "    df = pd.concat([df1, df2], axis=1)\n",
    "    record = df.set_index('id').T.to_dict('list')\n",
    "    #print(record[3])\n",
    "    data = []\n",
    "    imPaths = glob.glob(imPath)\n",
    "    for i in imPaths:\n",
    "        #print(i.split('.')[1][7:])\n",
    "        ID = int(i.split('.')[1][7:])\n",
    "        tmp = imageio.imread(i)\n",
    "        '''\n",
    "        r = tmp[:,:,0]\n",
    "        g = tmp[:,:,1]\n",
    "        b = tmp[:,:,2]\n",
    "        rgb=np.array([r, g, b])\n",
    "        '''\n",
    "        tmp = [tmp/255.0, record[ID]]\n",
    "        data.append(tmp)\n",
    "    return data"
   ]
  },
  {
   "cell_type": "code",
   "execution_count": 3,
   "metadata": {},
   "outputs": [],
   "source": [
    "#df = pd.read_csv('./trainLabels.csv', header=0)\n",
    "#df[['label']]\n",
    "data = processData('./train/*.png', './trainLabels.csv')\n",
    "#imPaths = glob.glob('./train/*.png')\n",
    "#imPaths = sorted(imPaths, key=lambda x:x[10:-3])\n",
    "#print(imPaths)\n",
    "#images = np.array([])\n",
    "#images = []\n",
    "#for i in imPaths:\n",
    "    #images.append(imageio.imread(i))\n",
    "    #images = np.append(images, imageio.imread(i))\n",
    "#print(len(images))\n",
    "#print(images.shape)"
   ]
  },
  {
   "cell_type": "code",
   "execution_count": 4,
   "metadata": {},
   "outputs": [],
   "source": [
    "train, test = train_test_split(data, test_size=0.2)\n",
    "trainX = np.array([i[0] for i in train])\n",
    "trainY = np.array([i[1] for i in train])\n",
    "testX = np.array([i[0] for i in test])\n",
    "testY = np.array([i[1] for i in test])"
   ]
  },
  {
   "cell_type": "code",
   "execution_count": 5,
   "metadata": {},
   "outputs": [
    {
     "name": "stdout",
     "output_type": "stream",
     "text": [
      "Model: \"sequential\"\n",
      "_________________________________________________________________\n",
      "Layer (type)                 Output Shape              Param #   \n",
      "=================================================================\n",
      "conv2d (Conv2D)              (None, 32, 32, 32)        1568      \n",
      "_________________________________________________________________\n",
      "max_pooling2d (MaxPooling2D) (None, 16, 16, 32)        0         \n",
      "_________________________________________________________________\n",
      "batch_normalization (BatchNo (None, 16, 16, 32)        128       \n",
      "_________________________________________________________________\n",
      "conv2d_1 (Conv2D)            (None, 16, 16, 32)        16416     \n",
      "_________________________________________________________________\n",
      "max_pooling2d_1 (MaxPooling2 (None, 8, 8, 32)          0         \n",
      "_________________________________________________________________\n",
      "batch_normalization_1 (Batch (None, 8, 8, 32)          128       \n",
      "_________________________________________________________________\n",
      "dropout (Dropout)            (None, 8, 8, 32)          0         \n",
      "_________________________________________________________________\n",
      "conv2d_2 (Conv2D)            (None, 8, 8, 32)          16416     \n",
      "_________________________________________________________________\n",
      "max_pooling2d_2 (MaxPooling2 (None, 4, 4, 32)          0         \n",
      "_________________________________________________________________\n",
      "batch_normalization_2 (Batch (None, 4, 4, 32)          128       \n",
      "_________________________________________________________________\n",
      "flatten (Flatten)            (None, 512)               0         \n",
      "_________________________________________________________________\n",
      "dense (Dense)                (None, 256)               131328    \n",
      "_________________________________________________________________\n",
      "dense_1 (Dense)              (None, 128)               32896     \n",
      "_________________________________________________________________\n",
      "dropout_1 (Dropout)          (None, 128)               0         \n",
      "_________________________________________________________________\n",
      "dense_2 (Dense)              (None, 10)                1290      \n",
      "=================================================================\n",
      "Total params: 200,298\n",
      "Trainable params: 200,106\n",
      "Non-trainable params: 192\n",
      "_________________________________________________________________\n",
      "None\n"
     ]
    }
   ],
   "source": [
    "model = Sequential()\n",
    "model.add(Conv2D(32, kernel_size=(4, 4), activation='relu', input_shape=(32, 32, 3), padding='same'))\n",
    "model.add(MaxPooling2D(pool_size=(2, 2)))\n",
    "model.add(BatchNormalization())\n",
    "model.add(Conv2D(32, kernel_size=(4, 4), activation='relu', padding='same'))\n",
    "model.add(MaxPooling2D(pool_size=(2, 2)))\n",
    "model.add(BatchNormalization())\n",
    "model.add(Dropout(0.2))\n",
    "model.add(Conv2D(32, kernel_size=(4, 4), activation='relu', padding='same'))\n",
    "model.add(MaxPooling2D(pool_size=(2, 2)))\n",
    "model.add(BatchNormalization())\n",
    "model.add(Flatten())\n",
    "model.add(Dense(256, activation='relu'))\n",
    "model.add(Dense(128, activation='relu'))\n",
    "model.add(Dropout(0.2))\n",
    "model.add(Dense(10, activation='softmax'))\n",
    "model.compile(loss='categorical_crossentropy', optimizer='adam', metrics=['accuracy'])\n",
    "print(model.summary())"
   ]
  },
  {
   "cell_type": "code",
   "execution_count": 6,
   "metadata": {},
   "outputs": [
    {
     "name": "stdout",
     "output_type": "stream",
     "text": [
      "Train on 40000 samples\n",
      "Epoch 1/50\n",
      "40000/40000 [==============================] - 5s 130us/sample - loss: 1.4416 - accuracy: 0.4775\n",
      "Epoch 2/50\n",
      "40000/40000 [==============================] - 3s 76us/sample - loss: 1.1024 - accuracy: 0.6080\n",
      "Epoch 3/50\n",
      "40000/40000 [==============================] - 3s 76us/sample - loss: 0.9290 - accuracy: 0.6708\n",
      "Epoch 4/50\n",
      "40000/40000 [==============================] - 3s 77us/sample - loss: 0.8219 - accuracy: 0.7105\n",
      "Epoch 5/50\n",
      "40000/40000 [==============================] - 3s 76us/sample - loss: 0.7359 - accuracy: 0.7404\n",
      "Epoch 6/50\n",
      "40000/40000 [==============================] - 3s 76us/sample - loss: 0.6684 - accuracy: 0.7641\n",
      "Epoch 7/50\n",
      "40000/40000 [==============================] - 3s 76us/sample - loss: 0.6086 - accuracy: 0.7862\n",
      "Epoch 8/50\n",
      "40000/40000 [==============================] - 3s 76us/sample - loss: 0.5564 - accuracy: 0.8020\n",
      "Epoch 9/50\n",
      "40000/40000 [==============================] - 3s 77us/sample - loss: 0.5113 - accuracy: 0.8188\n",
      "Epoch 10/50\n",
      "40000/40000 [==============================] - 4s 110us/sample - loss: 0.4829 - accuracy: 0.8278\n",
      "Epoch 11/50\n",
      "40000/40000 [==============================] - 3s 77us/sample - loss: 0.4398 - accuracy: 0.8424\n",
      "Epoch 12/50\n",
      "40000/40000 [==============================] - 3s 77us/sample - loss: 0.4088 - accuracy: 0.8540\n",
      "Epoch 13/50\n",
      "40000/40000 [==============================] - 3s 76us/sample - loss: 0.3811 - accuracy: 0.8644\n",
      "Epoch 14/50\n",
      "40000/40000 [==============================] - 3s 77us/sample - loss: 0.3507 - accuracy: 0.8747\n",
      "Epoch 15/50\n",
      "40000/40000 [==============================] - 3s 77us/sample - loss: 0.3347 - accuracy: 0.8813\n",
      "Epoch 16/50\n",
      "40000/40000 [==============================] - 3s 76us/sample - loss: 0.3115 - accuracy: 0.8886\n",
      "Epoch 17/50\n",
      "40000/40000 [==============================] - 3s 76us/sample - loss: 0.3043 - accuracy: 0.8907\n",
      "Epoch 18/50\n",
      "40000/40000 [==============================] - 3s 76us/sample - loss: 0.2853 - accuracy: 0.8991\n",
      "Epoch 19/50\n",
      "40000/40000 [==============================] - 3s 77us/sample - loss: 0.2646 - accuracy: 0.9045\n",
      "Epoch 20/50\n",
      "40000/40000 [==============================] - 3s 76us/sample - loss: 0.2576 - accuracy: 0.9089\n",
      "Epoch 21/50\n",
      "40000/40000 [==============================] - 3s 76us/sample - loss: 0.2416 - accuracy: 0.9134\n",
      "Epoch 22/50\n",
      "40000/40000 [==============================] - 3s 76us/sample - loss: 0.2341 - accuracy: 0.9164\n",
      "Epoch 23/50\n",
      "40000/40000 [==============================] - 3s 76us/sample - loss: 0.2254 - accuracy: 0.9212\n",
      "Epoch 24/50\n",
      "40000/40000 [==============================] - 3s 77us/sample - loss: 0.2170 - accuracy: 0.9237\n",
      "Epoch 25/50\n",
      "40000/40000 [==============================] - 3s 76us/sample - loss: 0.2028 - accuracy: 0.9275\n",
      "Epoch 26/50\n",
      "40000/40000 [==============================] - 3s 76us/sample - loss: 0.2030 - accuracy: 0.9275\n",
      "Epoch 27/50\n",
      "40000/40000 [==============================] - 3s 76us/sample - loss: 0.1995 - accuracy: 0.9288\n",
      "Epoch 28/50\n",
      "40000/40000 [==============================] - 3s 76us/sample - loss: 0.1845 - accuracy: 0.9351\n",
      "Epoch 29/50\n",
      "40000/40000 [==============================] - 3s 76us/sample - loss: 0.1803 - accuracy: 0.9352\n",
      "Epoch 30/50\n",
      "40000/40000 [==============================] - 3s 78us/sample - loss: 0.1772 - accuracy: 0.9374\n",
      "Epoch 31/50\n",
      "40000/40000 [==============================] - 3s 77us/sample - loss: 0.1702 - accuracy: 0.9405\n",
      "Epoch 32/50\n",
      "40000/40000 [==============================] - 3s 76us/sample - loss: 0.1698 - accuracy: 0.9398\n",
      "Epoch 33/50\n",
      "40000/40000 [==============================] - 3s 76us/sample - loss: 0.1659 - accuracy: 0.9409\n",
      "Epoch 34/50\n",
      "40000/40000 [==============================] - 3s 76us/sample - loss: 0.1576 - accuracy: 0.9441\n",
      "Epoch 35/50\n",
      "40000/40000 [==============================] - 3s 77us/sample - loss: 0.1520 - accuracy: 0.9464\n",
      "Epoch 36/50\n",
      "40000/40000 [==============================] - 3s 75us/sample - loss: 0.1517 - accuracy: 0.9453\n",
      "Epoch 37/50\n",
      "40000/40000 [==============================] - 3s 75us/sample - loss: 0.1506 - accuracy: 0.9467\n",
      "Epoch 38/50\n",
      "40000/40000 [==============================] - 3s 76us/sample - loss: 0.1457 - accuracy: 0.9492\n",
      "Epoch 39/50\n",
      "40000/40000 [==============================] - 3s 75us/sample - loss: 0.1389 - accuracy: 0.9508\n",
      "Epoch 40/50\n",
      "40000/40000 [==============================] - 3s 77us/sample - loss: 0.1409 - accuracy: 0.9503\n",
      "Epoch 41/50\n",
      "40000/40000 [==============================] - 3s 75us/sample - loss: 0.1380 - accuracy: 0.9518\n",
      "Epoch 42/50\n",
      "40000/40000 [==============================] - 3s 76us/sample - loss: 0.1318 - accuracy: 0.9532\n",
      "Epoch 43/50\n",
      "40000/40000 [==============================] - 3s 79us/sample - loss: 0.1321 - accuracy: 0.9535\n",
      "Epoch 44/50\n",
      "40000/40000 [==============================] - 3s 78us/sample - loss: 0.1310 - accuracy: 0.9549\n",
      "Epoch 45/50\n",
      "40000/40000 [==============================] - 3s 76us/sample - loss: 0.1260 - accuracy: 0.9564\n",
      "Epoch 46/50\n",
      "40000/40000 [==============================] - 3s 75us/sample - loss: 0.1244 - accuracy: 0.9562\n",
      "Epoch 47/50\n",
      "40000/40000 [==============================] - 3s 75us/sample - loss: 0.1211 - accuracy: 0.9585\n",
      "Epoch 48/50\n",
      "40000/40000 [==============================] - 3s 78us/sample - loss: 0.1236 - accuracy: 0.9567\n",
      "Epoch 49/50\n",
      "40000/40000 [==============================] - 3s 77us/sample - loss: 0.1138 - accuracy: 0.9601\n",
      "Epoch 50/50\n",
      "40000/40000 [==============================] - 3s 76us/sample - loss: 0.1121 - accuracy: 0.9605\n"
     ]
    },
    {
     "data": {
      "text/plain": [
       "<tensorflow.python.keras.callbacks.History at 0x265d5508288>"
      ]
     },
     "execution_count": 6,
     "metadata": {},
     "output_type": "execute_result"
    }
   ],
   "source": [
    "model.fit(trainX, trainY, batch_size=64, epochs=50, verbose=1)"
   ]
  },
  {
   "cell_type": "code",
   "execution_count": 7,
   "metadata": {},
   "outputs": [
    {
     "name": "stdout",
     "output_type": "stream",
     "text": [
      "10000/10000 [==============================] - 1s 113us/sample - loss: 1.4169 - accuracy: 0.7481\n"
     ]
    },
    {
     "data": {
      "text/plain": [
       "[1.4168592131257056, 0.7481]"
      ]
     },
     "execution_count": 7,
     "metadata": {},
     "output_type": "execute_result"
    }
   ],
   "source": [
    "model.evaluate(testX,  testY)"
   ]
  }
 ],
 "metadata": {
  "kernelspec": {
   "display_name": "Python 3",
   "language": "python",
   "name": "python3"
  },
  "language_info": {
   "codemirror_mode": {
    "name": "ipython",
    "version": 3
   },
   "file_extension": ".py",
   "mimetype": "text/x-python",
   "name": "python",
   "nbconvert_exporter": "python",
   "pygments_lexer": "ipython3",
   "version": "3.7.6"
  }
 },
 "nbformat": 4,
 "nbformat_minor": 2
}
