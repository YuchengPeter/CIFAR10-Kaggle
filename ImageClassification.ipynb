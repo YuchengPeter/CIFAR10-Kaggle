{
 "cells": [
  {
   "cell_type": "code",
   "execution_count": 63,
   "metadata": {},
   "outputs": [],
   "source": [
    "import tensorflow as tf\n",
    "import pandas as pd\n",
    "import numpy as np\n",
    "from sklearn.model_selection import train_test_split\n",
    "from sklearn.preprocessing import OneHotEncoder\n",
    "import glob\n",
    "import imageio\n",
    "#print(\"Num GPUs Available: \", len(tf.config.experimental.list_physical_devices('GPU')))"
   ]
  },
  {
   "cell_type": "code",
   "execution_count": 97,
   "metadata": {},
   "outputs": [],
   "source": [
    "def processData(imPath, labelPath):\n",
    "    df1 = pd.read_csv(labelPath, header=0)\n",
    "    yEncoder = OneHotEncoder(handle_unknown='ignore')\n",
    "    yEncoder.fit(df1[['label']])\n",
    "    #labelNames = yEncoder.get_feature_names()\n",
    "    labels = yEncoder.transform(df1[['label']]).toarray()\n",
    "    df2 = pd.DataFrame(data=labels)\n",
    "    df1.drop(['label'], axis=1, inplace=True)\n",
    "    df = pd.concat([df1, df2], axis=1)\n",
    "    record = df.set_index('id').T.to_dict('list')\n",
    "    #print(record[3])\n",
    "    data = []\n",
    "    imPaths = glob.glob(imPath)\n",
    "    for i in imPaths:\n",
    "        #print(i.split('.')[1][7:])\n",
    "        ID = int(i.split('.')[1][7:])\n",
    "        tmp = [imageio.imread(i), record[ID]]\n",
    "        data.append(tmp)\n",
    "    return data"
   ]
  },
  {
   "cell_type": "code",
   "execution_count": 99,
   "metadata": {},
   "outputs": [],
   "source": [
    "df = pd.read_csv('./trainLabels.csv', header=0)\n",
    "df[['label']]\n",
    "data = processData('./train/*.png', './trainLabels.csv')\n",
    "#imPaths = glob.glob('./train/*.png')\n",
    "#imPaths = sorted(imPaths, key=lambda x:x[10:-3])\n",
    "#print(imPaths)\n",
    "#images = np.array([])\n",
    "#images = []\n",
    "#for i in imPaths:\n",
    "    #images.append(imageio.imread(i))\n",
    "    #images = np.append(images, imageio.imread(i))\n",
    "#print(len(images))\n",
    "#print(images.shape)"
   ]
  },
  {
   "cell_type": "code",
   "execution_count": 111,
   "metadata": {},
   "outputs": [
    {
     "name": "stdout",
     "output_type": "stream",
     "text": [
      "32\n",
      "(32, 32, 3)\n"
     ]
    }
   ],
   "source": [
    "print(len(data[5][0]))\n",
    "print(imageio.imread('./train/1.png').shape)"
   ]
  },
  {
   "cell_type": "code",
   "execution_count": null,
   "metadata": {},
   "outputs": [],
   "source": []
  }
 ],
 "metadata": {
  "kernelspec": {
   "display_name": "Python 3",
   "language": "python",
   "name": "python3"
  },
  "language_info": {
   "codemirror_mode": {
    "name": "ipython",
    "version": 3
   },
   "file_extension": ".py",
   "mimetype": "text/x-python",
   "name": "python",
   "nbconvert_exporter": "python",
   "pygments_lexer": "ipython3",
   "version": "3.7.6"
  }
 },
 "nbformat": 4,
 "nbformat_minor": 2
}
